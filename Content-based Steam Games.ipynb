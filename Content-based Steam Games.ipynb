{
 "cells": [
  {
   "cell_type": "markdown",
   "id": "5e1626cf-f4b7-4569-bf58-dbdd87ffaf76",
   "metadata": {
    "vscode": {
     "languageId": "plaintext"
    }
   },
   "source": [
    "# Content-based Recommendation On Steam Games"
   ]
  },
  {
   "cell_type": "markdown",
   "id": "9d22909a",
   "metadata": {},
   "source": [
    "## Imports\n",
    "---"
   ]
  },
  {
   "cell_type": "code",
   "execution_count": 29,
   "id": "34fbda37-e764-4c77-bbba-7e89179ece50",
   "metadata": {},
   "outputs": [],
   "source": [
    "import pandas as pd\n",
    "import numpy as np\n",
    "import seaborn as sns\n",
    "import matplotlib.pyplot as plt\n",
    "from sklearn.metrics.pairwise import cosine_similarity\n",
    "\n",
    "# import stemmer from sklearn\n",
    "from nltk.stem import PorterStemmer\n",
    "from ast import literal_eval\n",
    "\n",
    "# import one-hot encoder \n",
    "from sklearn.preprocessing import MultiLabelBinarizer\n",
    "\n",
    "# Function to reduce the memory usage of a DataFrame.\n",
    "def reduce_memory(df):\n",
    "    for col in df.columns:\n",
    "        if df[col].dtype == 'float64':\n",
    "            df[col] = df[col].astype('float32')\n",
    "        if df[col].dtype == 'int64':\n",
    "            df[col] = df[col].astype('int32')\n",
    "    return df\n",
    "\n",
    "# Generator function to load data in chunks.\n",
    "def data_generator(df, chunksize=10000):\n",
    "    for i in range(0, df.shape[0], chunksize):\n",
    "        yield df.iloc[i:i+chunksize]\n",
    "\n",
    "# Load data\n",
    "games_df = reduce_memory(pd.read_csv('./data/games.csv'))\n",
    "users_df = reduce_memory(pd.read_csv('./data/users.csv'))\n",
    "recommendations_df = reduce_memory(pd.read_csv('./data/recommendations.csv'))"
   ]
  },
  {
   "cell_type": "code",
   "execution_count": 30,
   "id": "7c970c82-05ba-41f5-aa6e-f340a6eb8e13",
   "metadata": {},
   "outputs": [
    {
     "data": {
      "text/html": [
       "<div>\n",
       "<style scoped>\n",
       "    .dataframe tbody tr th:only-of-type {\n",
       "        vertical-align: middle;\n",
       "    }\n",
       "\n",
       "    .dataframe tbody tr th {\n",
       "        vertical-align: top;\n",
       "    }\n",
       "\n",
       "    .dataframe thead th {\n",
       "        text-align: right;\n",
       "    }\n",
       "</style>\n",
       "<table border=\"1\" class=\"dataframe\">\n",
       "  <thead>\n",
       "    <tr style=\"text-align: right;\">\n",
       "      <th></th>\n",
       "      <th>app_id</th>\n",
       "      <th>title</th>\n",
       "      <th>date_release</th>\n",
       "      <th>win</th>\n",
       "      <th>mac</th>\n",
       "      <th>linux</th>\n",
       "      <th>rating</th>\n",
       "      <th>positive_ratio</th>\n",
       "      <th>user_reviews</th>\n",
       "      <th>price_final</th>\n",
       "      <th>price_original</th>\n",
       "      <th>discount</th>\n",
       "      <th>steam_deck</th>\n",
       "    </tr>\n",
       "  </thead>\n",
       "  <tbody>\n",
       "    <tr>\n",
       "      <th>0</th>\n",
       "      <td>13500</td>\n",
       "      <td>Prince of Persia: Warrior Within™</td>\n",
       "      <td>2008-11-21</td>\n",
       "      <td>True</td>\n",
       "      <td>False</td>\n",
       "      <td>False</td>\n",
       "      <td>Very Positive</td>\n",
       "      <td>84</td>\n",
       "      <td>2199</td>\n",
       "      <td>9.99</td>\n",
       "      <td>9.99</td>\n",
       "      <td>0.0</td>\n",
       "      <td>True</td>\n",
       "    </tr>\n",
       "    <tr>\n",
       "      <th>1</th>\n",
       "      <td>22364</td>\n",
       "      <td>BRINK: Agents of Change</td>\n",
       "      <td>2011-08-03</td>\n",
       "      <td>True</td>\n",
       "      <td>False</td>\n",
       "      <td>False</td>\n",
       "      <td>Positive</td>\n",
       "      <td>85</td>\n",
       "      <td>21</td>\n",
       "      <td>2.99</td>\n",
       "      <td>2.99</td>\n",
       "      <td>0.0</td>\n",
       "      <td>True</td>\n",
       "    </tr>\n",
       "    <tr>\n",
       "      <th>2</th>\n",
       "      <td>113020</td>\n",
       "      <td>Monaco: What's Yours Is Mine</td>\n",
       "      <td>2013-04-24</td>\n",
       "      <td>True</td>\n",
       "      <td>True</td>\n",
       "      <td>True</td>\n",
       "      <td>Very Positive</td>\n",
       "      <td>92</td>\n",
       "      <td>3722</td>\n",
       "      <td>14.99</td>\n",
       "      <td>14.99</td>\n",
       "      <td>0.0</td>\n",
       "      <td>True</td>\n",
       "    </tr>\n",
       "    <tr>\n",
       "      <th>3</th>\n",
       "      <td>226560</td>\n",
       "      <td>Escape Dead Island</td>\n",
       "      <td>2014-11-18</td>\n",
       "      <td>True</td>\n",
       "      <td>False</td>\n",
       "      <td>False</td>\n",
       "      <td>Mixed</td>\n",
       "      <td>61</td>\n",
       "      <td>873</td>\n",
       "      <td>14.99</td>\n",
       "      <td>14.99</td>\n",
       "      <td>0.0</td>\n",
       "      <td>True</td>\n",
       "    </tr>\n",
       "    <tr>\n",
       "      <th>4</th>\n",
       "      <td>249050</td>\n",
       "      <td>Dungeon of the ENDLESS™</td>\n",
       "      <td>2014-10-27</td>\n",
       "      <td>True</td>\n",
       "      <td>True</td>\n",
       "      <td>False</td>\n",
       "      <td>Very Positive</td>\n",
       "      <td>88</td>\n",
       "      <td>8784</td>\n",
       "      <td>11.99</td>\n",
       "      <td>11.99</td>\n",
       "      <td>0.0</td>\n",
       "      <td>True</td>\n",
       "    </tr>\n",
       "  </tbody>\n",
       "</table>\n",
       "</div>"
      ],
      "text/plain": [
       "   app_id                              title date_release   win    mac  linux  \\\n",
       "0   13500  Prince of Persia: Warrior Within™   2008-11-21  True  False  False   \n",
       "1   22364            BRINK: Agents of Change   2011-08-03  True  False  False   \n",
       "2  113020       Monaco: What's Yours Is Mine   2013-04-24  True   True   True   \n",
       "3  226560                 Escape Dead Island   2014-11-18  True  False  False   \n",
       "4  249050            Dungeon of the ENDLESS™   2014-10-27  True   True  False   \n",
       "\n",
       "          rating  positive_ratio  user_reviews  price_final  price_original  \\\n",
       "0  Very Positive              84          2199         9.99            9.99   \n",
       "1       Positive              85            21         2.99            2.99   \n",
       "2  Very Positive              92          3722        14.99           14.99   \n",
       "3          Mixed              61           873        14.99           14.99   \n",
       "4  Very Positive              88          8784        11.99           11.99   \n",
       "\n",
       "   discount  steam_deck  \n",
       "0       0.0        True  \n",
       "1       0.0        True  \n",
       "2       0.0        True  \n",
       "3       0.0        True  \n",
       "4       0.0        True  "
      ]
     },
     "execution_count": 30,
     "metadata": {},
     "output_type": "execute_result"
    }
   ],
   "source": [
    "games_df.head()"
   ]
  },
  {
   "cell_type": "code",
   "execution_count": 31,
   "id": "01a694fd-0cb1-4a32-bafb-dc0f289cbe60",
   "metadata": {},
   "outputs": [
    {
     "data": {
      "text/html": [
       "<div>\n",
       "<style scoped>\n",
       "    .dataframe tbody tr th:only-of-type {\n",
       "        vertical-align: middle;\n",
       "    }\n",
       "\n",
       "    .dataframe tbody tr th {\n",
       "        vertical-align: top;\n",
       "    }\n",
       "\n",
       "    .dataframe thead th {\n",
       "        text-align: right;\n",
       "    }\n",
       "</style>\n",
       "<table border=\"1\" class=\"dataframe\">\n",
       "  <thead>\n",
       "    <tr style=\"text-align: right;\">\n",
       "      <th></th>\n",
       "      <th>user_id</th>\n",
       "      <th>products</th>\n",
       "      <th>reviews</th>\n",
       "    </tr>\n",
       "  </thead>\n",
       "  <tbody>\n",
       "    <tr>\n",
       "      <th>0</th>\n",
       "      <td>7360263</td>\n",
       "      <td>359</td>\n",
       "      <td>0</td>\n",
       "    </tr>\n",
       "    <tr>\n",
       "      <th>1</th>\n",
       "      <td>14020781</td>\n",
       "      <td>156</td>\n",
       "      <td>1</td>\n",
       "    </tr>\n",
       "    <tr>\n",
       "      <th>2</th>\n",
       "      <td>8762579</td>\n",
       "      <td>329</td>\n",
       "      <td>4</td>\n",
       "    </tr>\n",
       "    <tr>\n",
       "      <th>3</th>\n",
       "      <td>4820647</td>\n",
       "      <td>176</td>\n",
       "      <td>4</td>\n",
       "    </tr>\n",
       "    <tr>\n",
       "      <th>4</th>\n",
       "      <td>5167327</td>\n",
       "      <td>98</td>\n",
       "      <td>2</td>\n",
       "    </tr>\n",
       "  </tbody>\n",
       "</table>\n",
       "</div>"
      ],
      "text/plain": [
       "    user_id  products  reviews\n",
       "0   7360263       359        0\n",
       "1  14020781       156        1\n",
       "2   8762579       329        4\n",
       "3   4820647       176        4\n",
       "4   5167327        98        2"
      ]
     },
     "execution_count": 31,
     "metadata": {},
     "output_type": "execute_result"
    }
   ],
   "source": [
    "users_df.head()"
   ]
  },
  {
   "cell_type": "code",
   "execution_count": 32,
   "id": "244e4746-5d3b-468d-aa76-24c86d342ebd",
   "metadata": {},
   "outputs": [
    {
     "data": {
      "text/html": [
       "<div>\n",
       "<style scoped>\n",
       "    .dataframe tbody tr th:only-of-type {\n",
       "        vertical-align: middle;\n",
       "    }\n",
       "\n",
       "    .dataframe tbody tr th {\n",
       "        vertical-align: top;\n",
       "    }\n",
       "\n",
       "    .dataframe thead th {\n",
       "        text-align: right;\n",
       "    }\n",
       "</style>\n",
       "<table border=\"1\" class=\"dataframe\">\n",
       "  <thead>\n",
       "    <tr style=\"text-align: right;\">\n",
       "      <th></th>\n",
       "      <th>app_id</th>\n",
       "      <th>helpful</th>\n",
       "      <th>funny</th>\n",
       "      <th>date</th>\n",
       "      <th>is_recommended</th>\n",
       "      <th>hours</th>\n",
       "      <th>user_id</th>\n",
       "      <th>review_id</th>\n",
       "    </tr>\n",
       "  </thead>\n",
       "  <tbody>\n",
       "    <tr>\n",
       "      <th>0</th>\n",
       "      <td>975370</td>\n",
       "      <td>0</td>\n",
       "      <td>0</td>\n",
       "      <td>2022-12-12</td>\n",
       "      <td>True</td>\n",
       "      <td>36.299999</td>\n",
       "      <td>51580</td>\n",
       "      <td>0</td>\n",
       "    </tr>\n",
       "    <tr>\n",
       "      <th>1</th>\n",
       "      <td>304390</td>\n",
       "      <td>4</td>\n",
       "      <td>0</td>\n",
       "      <td>2017-02-17</td>\n",
       "      <td>False</td>\n",
       "      <td>11.500000</td>\n",
       "      <td>2586</td>\n",
       "      <td>1</td>\n",
       "    </tr>\n",
       "    <tr>\n",
       "      <th>2</th>\n",
       "      <td>1085660</td>\n",
       "      <td>2</td>\n",
       "      <td>0</td>\n",
       "      <td>2019-11-17</td>\n",
       "      <td>True</td>\n",
       "      <td>336.500000</td>\n",
       "      <td>253880</td>\n",
       "      <td>2</td>\n",
       "    </tr>\n",
       "    <tr>\n",
       "      <th>3</th>\n",
       "      <td>703080</td>\n",
       "      <td>0</td>\n",
       "      <td>0</td>\n",
       "      <td>2022-09-23</td>\n",
       "      <td>True</td>\n",
       "      <td>27.400000</td>\n",
       "      <td>259432</td>\n",
       "      <td>3</td>\n",
       "    </tr>\n",
       "    <tr>\n",
       "      <th>4</th>\n",
       "      <td>526870</td>\n",
       "      <td>0</td>\n",
       "      <td>0</td>\n",
       "      <td>2021-01-10</td>\n",
       "      <td>True</td>\n",
       "      <td>7.900000</td>\n",
       "      <td>23869</td>\n",
       "      <td>4</td>\n",
       "    </tr>\n",
       "  </tbody>\n",
       "</table>\n",
       "</div>"
      ],
      "text/plain": [
       "    app_id  helpful  funny        date  is_recommended       hours  user_id  \\\n",
       "0   975370        0      0  2022-12-12            True   36.299999    51580   \n",
       "1   304390        4      0  2017-02-17           False   11.500000     2586   \n",
       "2  1085660        2      0  2019-11-17            True  336.500000   253880   \n",
       "3   703080        0      0  2022-09-23            True   27.400000   259432   \n",
       "4   526870        0      0  2021-01-10            True    7.900000    23869   \n",
       "\n",
       "   review_id  \n",
       "0          0  \n",
       "1          1  \n",
       "2          2  \n",
       "3          3  \n",
       "4          4  "
      ]
     },
     "execution_count": 32,
     "metadata": {},
     "output_type": "execute_result"
    }
   ],
   "source": [
    "recommendations_df.head()"
   ]
  },
  {
   "cell_type": "markdown",
   "id": "32c4748a-286f-4ef2-b9ab-bf1b90f6502c",
   "metadata": {},
   "source": [
    "## Data visualization\n",
    "---"
   ]
  },
  {
   "cell_type": "markdown",
   "id": "7ca82f58",
   "metadata": {},
   "source": [
    "### Shape, Features, and Null values:"
   ]
  },
  {
   "cell_type": "markdown",
   "id": "aa31711d",
   "metadata": {},
   "source": [
    "#### Games Dataset"
   ]
  },
  {
   "cell_type": "markdown",
   "id": "815e2b07",
   "metadata": {},
   "source": [
    "Feature Descriptions:\n",
    "_______________________\n",
    "- app_id = product ID on steam\n",
    "- title = product title\n",
    "- date_release = product release date\n",
    "- win = supports Windows?\n",
    "- mac = support MacOS?\n",
    "- linux = supports Linux?\n",
    "- rating = product rating category\n",
    "- positive_ratio = ratio of positive feedbacks\n",
    "- user_reviews = amount of user reviews available on the Steam page\n",
    "- price_final = price in US dollars calculated after discount\n",
    "- steam_deck = available on Steam Deck?"
   ]
  },
  {
   "cell_type": "code",
   "execution_count": 33,
   "id": "88beccc9",
   "metadata": {},
   "outputs": [
    {
     "name": "stdout",
     "output_type": "stream",
     "text": [
      "Games Dataset:\n",
      "Rows and columns: (50872, 13)\n",
      "Features: ['app_id', 'title', 'date_release', 'win', 'mac', 'linux', 'rating', 'positive_ratio', 'user_reviews', 'price_final', 'price_original', 'discount', 'steam_deck']\n",
      "Null values:\n",
      " app_id            0\n",
      "title             0\n",
      "date_release      0\n",
      "win               0\n",
      "mac               0\n",
      "linux             0\n",
      "rating            0\n",
      "positive_ratio    0\n",
      "user_reviews      0\n",
      "price_final       0\n",
      "price_original    0\n",
      "discount          0\n",
      "steam_deck        0\n",
      "dtype: int64\n"
     ]
    }
   ],
   "source": [
    "print(\"Games Dataset:\")\n",
    "print(\"Rows and columns:\", games_df.shape)\n",
    "print(\"Features:\", games_df.columns.tolist())\n",
    "print(\"Null values:\\n\", games_df.isnull().sum())"
   ]
  },
  {
   "cell_type": "markdown",
   "id": "ccd9be31",
   "metadata": {},
   "source": [
    "#### Users Dataset"
   ]
  },
  {
   "cell_type": "markdown",
   "id": "fa8033a9",
   "metadata": {},
   "source": [
    "Feature Descriptions:\n",
    "_______________________\n",
    "- user_id = user's auto-generated ID\n",
    "- products = number of games/add-ons purchased by the user\n",
    "- reviews = number of reviews the user has published"
   ]
  },
  {
   "cell_type": "code",
   "execution_count": 34,
   "id": "c900dcfc",
   "metadata": {},
   "outputs": [
    {
     "name": "stdout",
     "output_type": "stream",
     "text": [
      "Users Dataset:\n",
      "Rows and columns: (14306064, 3)\n",
      "Features: ['user_id', 'products', 'reviews']\n",
      "Null values:\n",
      " user_id     0\n",
      "products    0\n",
      "reviews     0\n",
      "dtype: int64\n"
     ]
    }
   ],
   "source": [
    "print(\"Users Dataset:\")\n",
    "print(\"Rows and columns:\", users_df.shape)\n",
    "print(\"Features:\", users_df.columns.tolist())\n",
    "print(\"Null values:\\n\", users_df.isnull().sum())"
   ]
  },
  {
   "cell_type": "markdown",
   "id": "da05c9a7",
   "metadata": {},
   "source": [
    "#### Recommendations Dataset"
   ]
  },
  {
   "cell_type": "code",
   "execution_count": 35,
   "id": "90c683e6-71c5-4bbc-b2fa-dd5541ae84ae",
   "metadata": {},
   "outputs": [
    {
     "name": "stdout",
     "output_type": "stream",
     "text": [
      "Recommendations Dataset:\n",
      "Rows and columns: (41154794, 8)\n",
      "Features: ['app_id', 'helpful', 'funny', 'date', 'is_recommended', 'hours', 'user_id', 'review_id']\n",
      "Null values:\n",
      " app_id            0\n",
      "helpful           0\n",
      "funny             0\n",
      "date              0\n",
      "is_recommended    0\n",
      "hours             0\n",
      "user_id           0\n",
      "review_id         0\n",
      "dtype: int64\n"
     ]
    }
   ],
   "source": [
    "print(\"Recommendations Dataset:\")\n",
    "print(\"Rows and columns:\", recommendations_df.shape)\n",
    "print(\"Features:\", recommendations_df.columns.tolist())\n",
    "print(\"Null values:\\n\", recommendations_df.isnull().sum())"
   ]
  },
  {
   "cell_type": "markdown",
   "id": "b52453be",
   "metadata": {},
   "source": [
    "Feature Descriptions:\n",
    "_______________________\n",
    "- app_id = product ID on Steam\n",
    "- helpful = how many users found a recommendation helpful\n",
    "- funny = how many users found a recommendation funny\n",
    "- date = date of publishing\n",
    "- is_recommended = is the user recommending the product?\n",
    "- hours = how many hours played by the user\n",
    "- user_id = user's anonymized ID\n",
    "- review_id =  autogenerated ID"
   ]
  },
  {
   "cell_type": "markdown",
   "id": "9c9f92a7",
   "metadata": {},
   "source": [
    "### Understanding the Dataset:"
   ]
  },
  {
   "cell_type": "markdown",
   "id": "51019a60",
   "metadata": {},
   "source": [
    "#### Games Dataset"
   ]
  },
  {
   "cell_type": "code",
   "execution_count": 36,
   "id": "61f515f6",
   "metadata": {},
   "outputs": [
    {
     "data": {
      "text/plain": [
       "app_id              int32\n",
       "title              object\n",
       "date_release       object\n",
       "win                  bool\n",
       "mac                  bool\n",
       "linux                bool\n",
       "rating             object\n",
       "positive_ratio      int32\n",
       "user_reviews        int32\n",
       "price_final       float32\n",
       "price_original    float32\n",
       "discount          float32\n",
       "steam_deck           bool\n",
       "dtype: object"
      ]
     },
     "execution_count": 36,
     "metadata": {},
     "output_type": "execute_result"
    }
   ],
   "source": [
    "games_df.dtypes"
   ]
  },
  {
   "cell_type": "code",
   "execution_count": 37,
   "id": "6821e1d6",
   "metadata": {},
   "outputs": [
    {
     "name": "stdout",
     "output_type": "stream",
     "text": [
      "Feature: app_id\n",
      "[ 13500  22364 113020 226560 249050]\n",
      "----------------------------------------\n",
      "Feature: title\n",
      "['Prince of Persia: Warrior Within™' 'BRINK: Agents of Change'\n",
      " \"Monaco: What's Yours Is Mine\" 'Escape Dead Island'\n",
      " 'Dungeon of the ENDLESS™']\n",
      "----------------------------------------\n",
      "Feature: date_release\n",
      "['2008-11-21' '2011-08-03' '2013-04-24' '2014-11-18' '2014-10-27']\n",
      "----------------------------------------\n",
      "Feature: win\n",
      "[ True False]\n",
      "----------------------------------------\n",
      "Feature: mac\n",
      "[False  True]\n",
      "----------------------------------------\n",
      "Feature: linux\n",
      "[False  True]\n",
      "----------------------------------------\n",
      "Feature: rating\n",
      "['Very Positive' 'Positive' 'Mixed' 'Mostly Positive'\n",
      " 'Overwhelmingly Positive']\n",
      "----------------------------------------\n",
      "Feature: positive_ratio\n",
      "[84 85 92 61 88]\n",
      "----------------------------------------\n",
      "Feature: user_reviews\n",
      "[2199   21 3722  873 8784]\n",
      "----------------------------------------\n",
      "Feature: price_final\n",
      "[ 9.99  2.99 14.99 11.99  7.99]\n",
      "----------------------------------------\n",
      "Feature: price_original\n",
      "[ 9.99  2.99 14.99 11.99  7.99]\n",
      "----------------------------------------\n",
      "Feature: discount\n",
      "[ 0. 70. 88. 85. 60.]\n",
      "----------------------------------------\n",
      "Feature: steam_deck\n",
      "[ True False]\n",
      "----------------------------------------\n"
     ]
    }
   ],
   "source": [
    "for col in games_df.columns:\n",
    "    print(f\"Feature: {col}\")\n",
    "    print(games_df[col].unique()[:5])\n",
    "    print(\"-\" * 40)"
   ]
  },
  {
   "cell_type": "markdown",
   "id": "3e4a87e5",
   "metadata": {},
   "source": [
    "#### Users dataset"
   ]
  },
  {
   "cell_type": "code",
   "execution_count": 38,
   "id": "3f788221",
   "metadata": {},
   "outputs": [
    {
     "name": "stdout",
     "output_type": "stream",
     "text": [
      "Feature: user_id\n",
      "[ 7360263 14020781  8762579  4820647  5167327]\n",
      "----------------------------------------\n",
      "Feature: products\n",
      "[359 156 329 176  98]\n",
      "----------------------------------------\n",
      "Feature: reviews\n",
      "[0 1 4 2 5]\n",
      "----------------------------------------\n"
     ]
    }
   ],
   "source": [
    "for col in users_df.columns:\n",
    "    print(f\"Feature: {col}\")\n",
    "    print(users_df[col].unique()[:5])\n",
    "    print(\"-\" * 40)"
   ]
  },
  {
   "cell_type": "markdown",
   "id": "6c38a334",
   "metadata": {},
   "source": [
    "#### Recommendations dataset"
   ]
  },
  {
   "cell_type": "code",
   "execution_count": 39,
   "id": "08a666d9",
   "metadata": {},
   "outputs": [
    {
     "name": "stdout",
     "output_type": "stream",
     "text": [
      "Feature: app_id\n",
      "[ 975370  304390 1085660  703080  526870]\n",
      "----------------------------------------\n",
      "Feature: helpful\n",
      "[ 0  4  2  3 23]\n",
      "----------------------------------------\n",
      "Feature: funny\n",
      "[ 0  4  2 39  3]\n",
      "----------------------------------------\n",
      "Feature: date\n",
      "['2022-12-12' '2017-02-17' '2019-11-17' '2022-09-23' '2021-01-10']\n",
      "----------------------------------------\n",
      "Feature: is_recommended\n",
      "[ True False]\n",
      "----------------------------------------\n",
      "Feature: hours\n",
      "[ 36.3  11.5 336.5  27.4   7.9]\n",
      "----------------------------------------\n",
      "Feature: user_id\n",
      "[ 51580   2586 253880 259432  23869]\n",
      "----------------------------------------\n",
      "Feature: review_id\n",
      "[0 1 2 3 4]\n",
      "----------------------------------------\n"
     ]
    }
   ],
   "source": [
    "for col in recommendations_df.columns:\n",
    "    print(f\"Feature: {col}\")\n",
    "    print(recommendations_df[col].unique()[:5])\n",
    "    print(\"-\" * 40)"
   ]
  },
  {
   "cell_type": "markdown",
   "id": "643db152",
   "metadata": {},
   "source": [
    "### Basic Distribution Visualization:"
   ]
  },
  {
   "cell_type": "markdown",
   "id": "ba3e1e51",
   "metadata": {},
   "source": [
    "#### Games dataset"
   ]
  },
  {
   "cell_type": "code",
   "execution_count": 40,
   "id": "d84a09aa",
   "metadata": {},
   "outputs": [],
   "source": [
    "numeric_cols_g = games_df.select_dtypes(include=['int64', 'float64']).columns\n",
    "for col in numeric_cols_g:\n",
    "    plt.figure(figsize=(6,4))\n",
    "    sns.histplot(games_df[col], kde=True)\n",
    "    plt.title(f\"Distribution of {col}\")\n",
    "    plt.show()"
   ]
  },
  {
   "cell_type": "code",
   "execution_count": 41,
   "id": "33f9e51e",
   "metadata": {},
   "outputs": [
    {
     "name": "stdout",
     "output_type": "stream",
     "text": [
      "title unique values: 50751\n",
      "date_release unique values: 4292\n",
      "rating unique values: 9\n"
     ]
    },
    {
     "data": {
      "image/png": "[encoded data removed]",
      "text/plain": [
       "<Figure size 640x480 with 1 Axes>"
      ]
     },
     "metadata": {},
     "output_type": "display_data"
    }
   ],
   "source": [
    "categorical_cols_g = games_df.select_dtypes(include='object').columns\n",
    "for col in categorical_cols_g:\n",
    "    print(f\"{col} unique values: {games_df[col].nunique()}\")\n",
    "    if games_df[col].nunique() < 20:\n",
    "        sns.countplot(y=col, data=games_df)\n",
    "        plt.title(f\"Count of {col}\")\n",
    "        plt.show()"
   ]
  },
  {
   "cell_type": "code",
   "execution_count": 42,
   "id": "05adeea3",
   "metadata": {},
   "outputs": [
    {
     "data": {
      "image/png": "[encoded data removed]",
      "text/plain": [
       "<Figure size 640x480 with 1 Axes>"
      ]
     },
     "metadata": {},
     "output_type": "display_data"
    }
   ],
   "source": [
    "games_df['positive_ratio'].hist(bins=30)\n",
    "plt.title(\"Distribution of Positive Ratings\")\n",
    "plt.show()"
   ]
  },
  {
   "cell_type": "markdown",
   "id": "fe6cb821",
   "metadata": {},
   "source": [
    "#### Users dataset"
   ]
  },
  {
   "cell_type": "code",
   "execution_count": 43,
   "id": "4d158e24",
   "metadata": {},
   "outputs": [],
   "source": [
    "numeric_cols_u = users_df.select_dtypes(include=['int64', 'float64']).columns\n",
    "for col in numeric_cols_u:\n",
    "    plt.figure(figsize=(6,4))\n",
    "    sns.histplot(users_df[col], kde=True)\n",
    "    plt.title(f\"Distribution of {col}\")\n",
    "    plt.show()"
   ]
  },
  {
   "cell_type": "code",
   "execution_count": 44,
   "id": "6d8952f8",
   "metadata": {},
   "outputs": [],
   "source": [
    "categorical_cols_u = users_df.select_dtypes(include='object').columns\n",
    "for col in categorical_cols_u:\n",
    "    print(f\"{col} unique values: {users_df[col].nunique()}\")\n",
    "    if users_df[col].nunique() < 20:\n",
    "        sns.countplot(y=col, data=users_df)\n",
    "        plt.title(f\"Count of {col}\")\n",
    "        plt.show()"
   ]
  },
  {
   "cell_type": "markdown",
   "id": "98cdf8bb",
   "metadata": {},
   "source": [
    "#### Recommendations dataset"
   ]
  },
  {
   "cell_type": "code",
   "execution_count": 45,
   "id": "e8eb2578",
   "metadata": {},
   "outputs": [],
   "source": [
    "numeric_cols_r = recommendations_df.select_dtypes(include=['int64', 'float64']).columns\n",
    "for col in numeric_cols_r:\n",
    "    plt.figure(figsize=(6,4))\n",
    "    sns.histplot(recommendations_df[col], kde=True)\n",
    "    plt.title(f\"Distribution of {col}\")\n",
    "    plt.show()"
   ]
  },
  {
   "cell_type": "code",
   "execution_count": 46,
   "id": "20f5ea04",
   "metadata": {},
   "outputs": [
    {
     "name": "stdout",
     "output_type": "stream",
     "text": [
      "date unique values: 4450\n"
     ]
    }
   ],
   "source": [
    "categorical_cols_r = recommendations_df.select_dtypes(include='object').columns\n",
    "for col in categorical_cols_r:\n",
    "    print(f\"{col} unique values: {recommendations_df[col].nunique()}\")\n",
    "    if recommendations_df[col].nunique() < 20:\n",
    "        sns.countplot(y=col, data=recommendations_df)\n",
    "        plt.title(f\"Count of {col}\")\n",
    "        plt.show()"
   ]
  },
  {
   "cell_type": "markdown",
   "id": "becf5f2a-2531-49ea-9a16-72aa2af5a701",
   "metadata": {},
   "source": [
    "## Pre-processing\n",
    "---"
   ]
  },
  {
   "cell_type": "code",
   "execution_count": null,
   "id": "56b90b9e-47a7-4652-b9fa-1efcd8ab3b2e",
   "metadata": {},
   "outputs": [],
   "source": []
  },
  {
   "cell_type": "markdown",
   "id": "38676602-702e-4619-b4ab-275144d700d6",
   "metadata": {},
   "source": [
    "## Experiment One - Modeling\n",
    "---"
   ]
  },
  {
   "cell_type": "code",
   "execution_count": null,
   "id": "231cf6df-d3a4-40d9-8164-2e085925e6ac",
   "metadata": {},
   "outputs": [],
   "source": []
  },
  {
   "cell_type": "markdown",
   "id": "6ecff442-f988-43e7-832e-9e6e8c30399f",
   "metadata": {},
   "source": [
    "## Evaulation\n",
    "---"
   ]
  },
  {
   "cell_type": "code",
   "execution_count": null,
   "id": "a6521454-16c9-4319-9575-374e1750ff7d",
   "metadata": {},
   "outputs": [],
   "source": []
  },
  {
   "cell_type": "markdown",
   "id": "1dfe2d33-1486-41e1-87de-c56f8d76cebe",
   "metadata": {},
   "source": [
    "## Storytelling\n",
    "---"
   ]
  },
  {
   "cell_type": "code",
   "execution_count": null,
   "id": "ac0a2bf1-c735-4399-aade-fdb242188725",
   "metadata": {},
   "outputs": [],
   "source": []
  },
  {
   "cell_type": "markdown",
   "id": "6a12ae40-6b2d-4c5a-a5fd-f1e61a83a1c1",
   "metadata": {},
   "source": [
    "## Conclusion\n",
    "---"
   ]
  },
  {
   "cell_type": "code",
   "execution_count": null,
   "id": "37322f18-9f93-4f70-9fce-973c9e5488fb",
   "metadata": {},
   "outputs": [],
   "source": []
  }
 ],
 "metadata": {
  "kernelspec": {
   "display_name": "base",
   "language": "python",
   "name": "python3"
  },
  "language_info": {
   "codemirror_mode": {
    "name": "ipython",
    "version": 3
   },
   "file_extension": ".py",
   "mimetype": "text/x-python",
   "name": "python",
   "nbconvert_exporter": "python",
   "pygments_lexer": "ipython3",
   "version": "3.12.7"
  }
 },
 "nbformat": 4,
 "nbformat_minor": 5
}
