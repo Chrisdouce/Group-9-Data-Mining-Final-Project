{
 "cells": [
  {
   "cell_type": "markdown",
   "id": "5e1626cf-f4b7-4569-bf58-dbdd87ffaf76",
   "metadata": {
    "vscode": {
     "languageId": "plaintext"
    }
   },
   "source": [
    "# Content-based Recommendation On Steam Games"
   ]
  },
  {
   "cell_type": "markdown",
   "id": "9d22909a",
   "metadata": {},
   "source": [
    "## Introduction\n",
    "---"
   ]
  },
  {
   "cell_type": "code",
   "execution_count": null,
   "id": "34fbda37-e764-4c77-bbba-7e89179ece50",
   "metadata": {},
   "outputs": [],
   "source": []
  },
  {
   "cell_type": "markdown",
   "id": "32c4748a-286f-4ef2-b9ab-bf1b90f6502c",
   "metadata": {},
   "source": [
    "## Data visualization\n",
    "---"
   ]
  },
  {
   "cell_type": "code",
   "execution_count": null,
   "id": "98130d4d-fad2-4d29-8e15-5da12f51b3df",
   "metadata": {},
   "outputs": [],
   "source": []
  },
  {
   "cell_type": "markdown",
   "id": "becf5f2a-2531-49ea-9a16-72aa2af5a701",
   "metadata": {},
   "source": [
    "## Pre-processing\n",
    "---"
   ]
  },
  {
   "cell_type": "code",
   "execution_count": null,
   "id": "0596cd47-f35a-45da-bde6-4c6a14a02d6d",
   "metadata": {},
   "outputs": [],
   "source": []
  },
  {
   "cell_type": "markdown",
   "id": "38676602-702e-4619-b4ab-275144d700d6",
   "metadata": {},
   "source": [
    "## Modeling\n",
    "---"
   ]
  },
  {
   "cell_type": "code",
   "execution_count": null,
   "id": "dad2944c-922d-4375-b6a1-06118460bf74",
   "metadata": {},
   "outputs": [],
   "source": []
  },
  {
   "cell_type": "markdown",
   "id": "6ecff442-f988-43e7-832e-9e6e8c30399f",
   "metadata": {},
   "source": [
    "## Evaulation\n",
    "---"
   ]
  },
  {
   "cell_type": "code",
   "execution_count": null,
   "id": "a6521454-16c9-4319-9575-374e1750ff7d",
   "metadata": {},
   "outputs": [],
   "source": []
  },
  {
   "cell_type": "markdown",
   "id": "1dfe2d33-1486-41e1-87de-c56f8d76cebe",
   "metadata": {},
   "source": [
    "## Storytelling\n",
    "---"
   ]
  },
  {
   "cell_type": "code",
   "execution_count": null,
   "id": "ac0a2bf1-c735-4399-aade-fdb242188725",
   "metadata": {},
   "outputs": [],
   "source": []
  },
  {
   "cell_type": "markdown",
   "id": "6a12ae40-6b2d-4c5a-a5fd-f1e61a83a1c1",
   "metadata": {},
   "source": [
    "## Conclusion\n",
    "---"
   ]
  },
  {
   "cell_type": "code",
   "execution_count": null,
   "id": "37322f18-9f93-4f70-9fce-973c9e5488fb",
   "metadata": {},
   "outputs": [],
   "source": []
  }
 ],
 "metadata": {
  "kernelspec": {
   "display_name": "Python 3 (ipykernel)",
   "language": "python",
   "name": "python3"
  },
  "language_info": {
   "codemirror_mode": {
    "name": "ipython",
    "version": 3
   },
   "file_extension": ".py",
   "mimetype": "text/x-python",
   "name": "python",
   "nbconvert_exporter": "python",
   "pygments_lexer": "ipython3",
   "version": "3.12.7"
  }
 },
 "nbformat": 4,
 "nbformat_minor": 5
}
